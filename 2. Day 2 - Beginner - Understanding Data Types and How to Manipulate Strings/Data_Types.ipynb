{
 "cells": [
  {
   "cell_type": "code",
   "execution_count": 1,
   "id": "eastern-henry",
   "metadata": {},
   "outputs": [
    {
     "name": "stdout",
     "output_type": "stream",
     "text": [
      "num_1 has 4 characters.\n"
     ]
    }
   ],
   "source": [
    "num_1 = 1234\n",
    "num_1_len = len(str(num_1))\n",
    "print(f\"num_1 has {num_1_len} characters.\")"
   ]
  },
  {
   "cell_type": "markdown",
   "id": "enabling-effects",
   "metadata": {},
   "source": [
    "# Exercise - 2.1"
   ]
  },
  {
   "cell_type": "code",
   "execution_count": 4,
   "id": "fleet-macintosh",
   "metadata": {},
   "outputs": [
    {
     "name": "stdout",
     "output_type": "stream",
     "text": [
      "Write a two digit number: 39\n",
      "3 + 9 = 12\n"
     ]
    }
   ],
   "source": [
    "a = input(\"Write a two digit number: \")\n",
    "#print(type(a))\n",
    "a_1 = int(a[0])\n",
    "a_2 = int(a[1])\n",
    "sumOf_a = a_1 + a_2\n",
    "print(f\"{a_1} + {a_2} = {sumOf_a}\")"
   ]
  },
  {
   "cell_type": "markdown",
   "id": "respected-enclosure",
   "metadata": {},
   "source": [
    "# Exercise - 2.2"
   ]
  },
  {
   "cell_type": "code",
   "execution_count": 6,
   "id": "coral-fishing",
   "metadata": {},
   "outputs": [
    {
     "name": "stdout",
     "output_type": "stream",
     "text": [
      "weight: 80\n",
      "height: 1.75\n",
      "BMI = 26\n"
     ]
    }
   ],
   "source": [
    "weight = float(input(\"weight: \"))\n",
    "height = float(input(\"height: \"))\n",
    "BMI = int(weight/(height**2))\n",
    "print(f\"BMI = {BMI}\")"
   ]
  },
  {
   "cell_type": "markdown",
   "id": "invalid-amino",
   "metadata": {},
   "source": [
    "# Exercise - 2.3 "
   ]
  },
  {
   "cell_type": "code",
   "execution_count": 7,
   "id": "initial-middle",
   "metadata": {},
   "outputs": [
    {
     "name": "stdout",
     "output_type": "stream",
     "text": [
      "What is your current age? : 56\n",
      "You have 12410 days, 1768 weeks, and 408 months left.\n"
     ]
    }
   ],
   "source": [
    "age = int(input(\"What is your current age? : \"))\n",
    "\n",
    "age_left = 90 - age\n",
    "\n",
    "days   = 365 * age_left\n",
    "weeks  = 52  * age_left\n",
    "months = 12  * age_left\n",
    "\n",
    "print(f\"You have {days} days, {weeks} weeks, and {months} months left.\")"
   ]
  },
  {
   "cell_type": "markdown",
   "id": "genetic-petroleum",
   "metadata": {},
   "source": [
    "# Day-2 Project"
   ]
  },
  {
   "cell_type": "code",
   "execution_count": 14,
   "id": "continuing-soccer",
   "metadata": {},
   "outputs": [
    {
     "name": "stdout",
     "output_type": "stream",
     "text": [
      "Welcome to the Tip-Calculator.\n",
      "What was the total bill? $153.45\n",
      "What percentage tip would you like to give? 10, 12 or 15? 15\n",
      "How many people to split the bill? 5\n",
      "Each person should pay: $35.29\n"
     ]
    }
   ],
   "source": [
    "print(\"Welcome to the Tip-Calculator.\")\n",
    "bill = float(input(\"What was the total bill? $\"))\n",
    "tip = int(input(\"What percentage tip would you like to give? 10, 12 or 15? \"))\n",
    "people = int(input(\"How many people to split the bill? \"))\n",
    "final_bill = \"{:.2f}\".format((bill + (bill * (tip/100))) / people)\n",
    "print(f\"Each person should pay: ${final_bill}\")"
   ]
  },
  {
   "cell_type": "code",
   "execution_count": null,
   "id": "foreign-width",
   "metadata": {},
   "outputs": [],
   "source": []
  }
 ],
 "metadata": {
  "kernelspec": {
   "display_name": "Python 3",
   "language": "python",
   "name": "python3"
  },
  "language_info": {
   "codemirror_mode": {
    "name": "ipython",
    "version": 3
   },
   "file_extension": ".py",
   "mimetype": "text/x-python",
   "name": "python",
   "nbconvert_exporter": "python",
   "pygments_lexer": "ipython3",
   "version": "3.7.9"
  }
 },
 "nbformat": 4,
 "nbformat_minor": 5
}
