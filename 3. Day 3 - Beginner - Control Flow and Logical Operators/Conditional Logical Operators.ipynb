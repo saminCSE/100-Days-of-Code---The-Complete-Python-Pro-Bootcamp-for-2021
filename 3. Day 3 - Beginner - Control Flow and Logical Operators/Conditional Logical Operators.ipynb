{
 "cells": [
  {
   "cell_type": "code",
   "execution_count": 20,
   "id": "corrected-riding",
   "metadata": {},
   "outputs": [
    {
     "name": "stdout",
     "output_type": "stream",
     "text": [
      "Welcome to the RollerCoaster..!!\n",
      "What is your height in cm? :176\n",
      "You can ride the RollerCoaster\n",
      "What is your age? :26\n",
      "Adult tickets are $12.\n",
      "Do you want a photo taken? Y or N. Y\n",
      "Your final bill is $15\n"
     ]
    }
   ],
   "source": [
    "print(\"Welcome to the RollerCoaster..!!\")\n",
    "height = int(input(\"What is your height in cm? :\"))\n",
    "bill = 0\n",
    "\n",
    "if height > 120:\n",
    "    print(\"You can ride the RollerCoaster\")\n",
    "    age = int(input(\"What is your age? :\"))\n",
    "    \n",
    "    if age < 12:\n",
    "        bill = 5\n",
    "        print(\"Child tickets are $5.\")\n",
    "    elif age <= 18:\n",
    "        bill = 7\n",
    "        print(\"Youth tickets are $7.\")\n",
    "    elif age >= 45 and age <= 55:\n",
    "        print(\"Everything is going to be Ok. Have a free ride on us!\")\n",
    "    else:\n",
    "        bill = 12\n",
    "        print(\"Adult tickets are $12.\")\n",
    "        \n",
    "    wants_photo = input(\"Do you want a photo taken? Y or N. \")\n",
    "    if wants_photo == \"Y\":\n",
    "        bill += 3\n",
    "    \n",
    "    print(f\"Your final bill is ${bill}\")\n",
    "    \n",
    "else:\n",
    "    print(\"Sorry, you have to grow taller before you can ride.\")"
   ]
  },
  {
   "cell_type": "markdown",
   "id": "bibliographic-literature",
   "metadata": {},
   "source": [
    "# Exercise - 3.1"
   ]
  },
  {
   "cell_type": "code",
   "execution_count": 2,
   "id": "stuck-taylor",
   "metadata": {},
   "outputs": [
    {
     "name": "stdout",
     "output_type": "stream",
     "text": [
      "Write a Number: 87\n",
      "87 is an Odd Number.\n"
     ]
    }
   ],
   "source": [
    "num = int(input(\"Write a Number: \"))\n",
    "\n",
    "if (num % 2 == 0):\n",
    "    print(f\"{num} is an Even Number.\")\n",
    "else:\n",
    "    print(f\"{num} is an Odd Number.\")"
   ]
  },
  {
   "cell_type": "markdown",
   "id": "numerous-testimony",
   "metadata": {},
   "source": [
    "# Exercise - 3.2"
   ]
  },
  {
   "cell_type": "code",
   "execution_count": 6,
   "id": "polyphonic-place",
   "metadata": {},
   "outputs": [
    {
     "name": "stdout",
     "output_type": "stream",
     "text": [
      "weight: 60\n",
      "height: 1.77\n",
      "Your BMI is 19, you have a normal weight.\n"
     ]
    }
   ],
   "source": [
    "weight = float(input(\"weight: \"))\n",
    "height = float(input(\"height: \"))\n",
    "BMI = round(weight/(height**2))\n",
    "\n",
    "if BMI <= 18.5:\n",
    "    print(f\"Your BMI is {BMI}, you are underweight.\")\n",
    "elif BMI <= 25:\n",
    "    print(f\"Your BMI is {BMI}, you have a normal weight.\")\n",
    "elif BMI <= 30:\n",
    "    print(f\"Your BMI is {BMI}, you are slightly overweight.\")\n",
    "elif BMI <= 35:\n",
    "    print(f\"Your BMI is {BMI}, you are obese.\")\n",
    "else:\n",
    "    print(f\"Your BMI is {BMI}, you are clinically obese.\")"
   ]
  },
  {
   "cell_type": "markdown",
   "id": "sustainable-karma",
   "metadata": {},
   "source": [
    "# Exercise - 3.3"
   ]
  },
  {
   "cell_type": "code",
   "execution_count": 18,
   "id": "imported-particle",
   "metadata": {},
   "outputs": [
    {
     "name": "stdout",
     "output_type": "stream",
     "text": [
      "Year: 1989\n",
      "1989 is Not a Leap Year.\n"
     ]
    }
   ],
   "source": [
    "year = int(input(\"Year: \"))\n",
    "\n",
    "if year % 4 == 0:\n",
    "    if year % 100 == 0:\n",
    "        if year % 400 == 0:\n",
    "            print(f\"{year} is a Leap Year.\")\n",
    "        else:\n",
    "            print(f\"{year} is Not a Leap Year.\")\n",
    "    else:\n",
    "        print(f\"{year} is a Leap Year.\")\n",
    "else:\n",
    "    print(f\"{year} is Not a Leap Year.\")"
   ]
  },
  {
   "cell_type": "markdown",
   "id": "juvenile-mercy",
   "metadata": {},
   "source": [
    "# Exercise - 3.4"
   ]
  },
  {
   "cell_type": "code",
   "execution_count": 23,
   "id": "sized-finish",
   "metadata": {},
   "outputs": [
    {
     "name": "stdout",
     "output_type": "stream",
     "text": [
      "Welcome to Python Pizza Deliveries!\n",
      "What size pizza do you want? S, M, or L: M\n",
      "Do you want pepperoni? Y or N: Y\n",
      "Do you want extra cheese? Y or N: Y\n",
      "Your final bill is $24\n"
     ]
    }
   ],
   "source": [
    "print(\"Welcome to Python Pizza Deliveries!\")\n",
    "size = input(\"What size pizza do you want? S, M, or L: \")\n",
    "add_pepperoni = input(\"Do you want pepperoni? Y or N: \")\n",
    "extra_cheese = input(\"Do you want extra cheese? Y or N: \")\n",
    "price = 0\n",
    "\n",
    "if size == \"S\":\n",
    "    price += 15\n",
    "    if add_pepperoni == \"Y\":\n",
    "        price += 2\n",
    "        if extra_cheese == \"Y\":\n",
    "            price += 1\n",
    "            print(f\"Your final bill is ${price}\")\n",
    "        else:\n",
    "            print(f\"Your final bill is ${price}\")\n",
    "    else:\n",
    "        print(f\"Your final bill is ${price}\")\n",
    "elif size == \"M\":\n",
    "    price += 20\n",
    "    if add_pepperoni == \"Y\":\n",
    "        price += 3\n",
    "        if extra_cheese == \"Y\":\n",
    "            price += 1\n",
    "            print(f\"Your final bill is ${price}\")\n",
    "        else:\n",
    "            print(f\"Your final bill is ${price}\")\n",
    "    else:\n",
    "        print(f\"Your final bill is ${price}\")\n",
    "elif size == \"L\":\n",
    "    price += 25\n",
    "    if add_pepperoni == \"Y\":\n",
    "        price += 3\n",
    "        if extra_cheese == \"Y\":\n",
    "            price += 1\n",
    "            print(f\"Your final bill is ${price}\")\n",
    "        else:\n",
    "            print(f\"Your final bill is ${price}\")\n",
    "    else:\n",
    "        print(f\"Your final bill is ${price}\")"
   ]
  },
  {
   "cell_type": "markdown",
   "id": "amateur-johnson",
   "metadata": {},
   "source": [
    "# Exercise - 3.5"
   ]
  },
  {
   "cell_type": "code",
   "execution_count": 24,
   "id": "specified-touch",
   "metadata": {},
   "outputs": [
    {
     "name": "stdout",
     "output_type": "stream",
     "text": [
      "Welcome to the Love Calculator!\n",
      "What is your name? \n",
      "Samin Yeasar\n",
      "What is their name? \n",
      "Someone Special\n",
      "Your score is 57.\n"
     ]
    }
   ],
   "source": [
    "print(\"Welcome to the Love Calculator!\")\n",
    "name1 = input(\"What is your name? \\n\")\n",
    "name2 = input(\"What is their name? \\n\")\n",
    "\n",
    "combined_names = name1 + name2\n",
    "lower_names = combined_names.lower()\n",
    "t = lower_names.count(\"t\")\n",
    "r = lower_names.count(\"r\")\n",
    "u = lower_names.count(\"u\")\n",
    "e = lower_names.count(\"e\")\n",
    "first_digit = t + r + u + e\n",
    "\n",
    "l = lower_names.count(\"l\")\n",
    "o = lower_names.count(\"o\")\n",
    "v = lower_names.count(\"v\")\n",
    "e = lower_names.count(\"e\")\n",
    "second_digit = l + o + v + e\n",
    "\n",
    "score = int(str(first_digit) + str(second_digit))\n",
    "\n",
    "if (score < 10) or (score > 90):\n",
    "    print(f\"Your score is {score}, you go together like coke and mentos.\")\n",
    "elif (score >= 40) and (score <= 50):\n",
    "    print(f\"Your score is {score}, you are alright together.\")\n",
    "else:\n",
    "    print(f\"Your score is {score}.\")"
   ]
  },
  {
   "cell_type": "markdown",
   "id": "chicken-chosen",
   "metadata": {},
   "source": [
    "# Day-3 Project"
   ]
  },
  {
   "cell_type": "code",
   "execution_count": 27,
   "id": "forbidden-hygiene",
   "metadata": {},
   "outputs": [
    {
     "name": "stdout",
     "output_type": "stream",
     "text": [
      "\n",
      "*******************************************************************************\n",
      "          |                   |                  |                     |\n",
      " _________|________________.=\"\"_;=.______________|_____________________|_______\n",
      "|                   |  ,-\"_,=\"\"     `\"=.|                  |\n",
      "|___________________|__\"=._o`\"-._        `\"=.______________|___________________\n",
      "          |                `\"=._o`\"=._      _`\"=._                     |\n",
      " _________|_____________________:=._o \"=._.\"_.-=\"'\"=.__________________|_______\n",
      "|                   |    __.--\" , ; `\"=._o.\" ,-\"\"\"-._ \".   |\n",
      "|___________________|_._\"  ,. .` ` `` ,  `\"-._\"-._   \". '__|___________________\n",
      "          |           |o`\"=._` , \"` `; .\". ,  \"-._\"-._; ;              |\n",
      " _________|___________| ;`-.o`\"=._; .\" ` '`.\"\\` . \"-._ /_______________|_______\n",
      "|                   | |o;    `\"-.o`\"=._``  '` \" ,__.--o;   |\n",
      "|___________________|_| ;     (#) `-.o `\"=.`_.--\"_o.-; ;___|___________________\n",
      "____/______/______/___|o;._    \"      `\".o|o_.--\"    ;o;____/______/______/____\n",
      "/______/______/______/_\"=._o--._        ; | ;        ; ;/______/______/______/_\n",
      "____/______/______/______/__\"=._o--._   ;o|o;     _._;o;____/______/______/____\n",
      "/______/______/______/______/____\"=._o._; | ;_.--\"o.--\"_/______/______/______/_\n",
      "____/______/______/______/______/_____\"=.o|o_.--\"\"___/______/______/______/____\n",
      "/______/______/______/______/______/______/______/______/______/______/_____ /\n",
      "*******************************************************************************\n",
      "\n",
      "Welcome to Treasure Island.\n",
      "Your mission is to find the treasure.\n",
      "You're at a cross road. Where do you want to go? type 'left' or 'right': left\n",
      "You came to a lake. There is an island in the middle of the lake. Type 'wait' to wait for a boat. Type 'swim' to swim accross: wait\n",
      "You arrive the island unharmed. There is a house with 3 doors. One 'red', one 'yellow' and one 'blue'. Which color do you choose?: yellow\n",
      "You Win..!!\n"
     ]
    }
   ],
   "source": [
    "print('''\n",
    "*******************************************************************************\n",
    "          |                   |                  |                     |\n",
    " _________|________________.=\"\"_;=.______________|_____________________|_______\n",
    "|                   |  ,-\"_,=\"\"     `\"=.|                  |\n",
    "|___________________|__\"=._o`\"-._        `\"=.______________|___________________\n",
    "          |                `\"=._o`\"=._      _`\"=._                     |\n",
    " _________|_____________________:=._o \"=._.\"_.-=\"'\"=.__________________|_______\n",
    "|                   |    __.--\" , ; `\"=._o.\" ,-\"\"\"-._ \".   |\n",
    "|___________________|_._\"  ,. .` ` `` ,  `\"-._\"-._   \". '__|___________________\n",
    "          |           |o`\"=._` , \"` `; .\". ,  \"-._\"-._; ;              |\n",
    " _________|___________| ;`-.o`\"=._; .\" ` '`.\"\\` . \"-._ /_______________|_______\n",
    "|                   | |o;    `\"-.o`\"=._``  '` \" ,__.--o;   |\n",
    "|___________________|_| ;     (#) `-.o `\"=.`_.--\"_o.-; ;___|___________________\n",
    "____/______/______/___|o;._    \"      `\".o|o_.--\"    ;o;____/______/______/____\n",
    "/______/______/______/_\"=._o--._        ; | ;        ; ;/______/______/______/_\n",
    "____/______/______/______/__\"=._o--._   ;o|o;     _._;o;____/______/______/____\n",
    "/______/______/______/______/____\"=._o._; | ;_.--\"o.--\"_/______/______/______/_\n",
    "____/______/______/______/______/_____\"=.o|o_.--\"\"___/______/______/______/____\n",
    "/______/______/______/______/______/______/______/______/______/______/_____ /\n",
    "*******************************************************************************\n",
    "''')\n",
    "print(\"Welcome to Treasure Island.\")\n",
    "print(\"Your mission is to find the treasure.\")\n",
    "choice_1 = input(\"You're at a cross road. Where do you want to go? type 'left' or 'right': \")\n",
    "\n",
    "if choice_1 == \"left\":\n",
    "    choice_2 = input(\"You came to a lake. There is an island in the middle of the lake. Type 'wait' to wait for a boat. Type 'swim' to swim accross: \")\n",
    "    if choice_2 == \"wait\":\n",
    "        choice_3 = input(\"You arrive the island unharmed. There is a house with 3 doors. One 'red', one 'yellow' and one 'blue'. Which color do you choose?: \")\n",
    "        if choice_3 == \"red\":\n",
    "            print(\"Burned by fire. Game Over..!!\")\n",
    "        elif choice_3 == \"yellow\":\n",
    "            print(\"You Win..!!\")\n",
    "        elif choice_3 == \"blue\":\n",
    "            print(\"Eaten by beasts. Game Over..!!\")\n",
    "        else:\n",
    "            print(\"Game Over..!!\")\n",
    "    else:\n",
    "        print(\"Attacked by trout. Game Over..!!\")\n",
    "else:\n",
    "    print(\"Fall into the hole. Game Over..!!\")"
   ]
  }
 ],
 "metadata": {
  "kernelspec": {
   "display_name": "Python 3",
   "language": "python",
   "name": "python3"
  },
  "language_info": {
   "codemirror_mode": {
    "name": "ipython",
    "version": 3
   },
   "file_extension": ".py",
   "mimetype": "text/x-python",
   "name": "python",
   "nbconvert_exporter": "python",
   "pygments_lexer": "ipython3",
   "version": "3.7.9"
  }
 },
 "nbformat": 4,
 "nbformat_minor": 5
}
