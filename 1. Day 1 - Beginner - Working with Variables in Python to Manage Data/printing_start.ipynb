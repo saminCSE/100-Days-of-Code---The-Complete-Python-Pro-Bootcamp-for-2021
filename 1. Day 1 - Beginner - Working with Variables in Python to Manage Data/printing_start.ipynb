{
 "cells": [
  {
   "cell_type": "code",
   "execution_count": 1,
   "source": [
    "print('Hello World..!!!')"
   ],
   "outputs": [
    {
     "output_type": "stream",
     "name": "stdout",
     "text": [
      "Hello World..!!!\n"
     ]
    }
   ],
   "metadata": {}
  },
  {
   "cell_type": "markdown",
   "source": [
    "# Exercise - 1.1"
   ],
   "metadata": {}
  },
  {
   "cell_type": "code",
   "execution_count": 3,
   "source": [
    "print(\"Day 1 - Python Print Function\")\r\n",
    "print(\"The function is declared like this:\")\r\n",
    "print(\"print('what to print')\")"
   ],
   "outputs": [
    {
     "output_type": "stream",
     "name": "stdout",
     "text": [
      "Day 1 - Python Print Function\n",
      "The function is declared like this:\n",
      "print('what to print')\n"
     ]
    }
   ],
   "metadata": {}
  },
  {
   "cell_type": "code",
   "execution_count": 4,
   "source": [
    "print('1st line.\\n2nd line.')"
   ],
   "outputs": [
    {
     "output_type": "stream",
     "name": "stdout",
     "text": [
      "1st line.\n",
      "2nd line.\n"
     ]
    }
   ],
   "metadata": {}
  },
  {
   "cell_type": "code",
   "execution_count": 5,
   "source": [
    "print(f'Hello Samin')"
   ],
   "outputs": [
    {
     "output_type": "stream",
     "name": "stdout",
     "text": [
      "Hello Samin\n"
     ]
    }
   ],
   "metadata": {}
  },
  {
   "cell_type": "markdown",
   "source": [
    "# Exercise - 1.2"
   ],
   "metadata": {}
  },
  {
   "cell_type": "code",
   "execution_count": 6,
   "source": [
    "print(f'Day 1 - String Manipulation')\r\n",
    "print(f'String concatanation is done with the \"+\" sign.')\r\n",
    "print(f'e.g. print(\"Hello \" + \"world\")')\r\n",
    "print(f'New lines can be created with a backslash and n')"
   ],
   "outputs": [
    {
     "output_type": "stream",
     "name": "stdout",
     "text": [
      "Day 1 - String Manipulation\n",
      "String concatanation is done with the \"+\" sign.\n",
      "e.g. print(\"Hello \" + \"world\")\n",
      "New lines can be created with a backslash and n\n"
     ]
    }
   ],
   "metadata": {}
  },
  {
   "cell_type": "markdown",
   "source": [
    "# Exercise - 1.3"
   ],
   "metadata": {}
  },
  {
   "cell_type": "code",
   "execution_count": 8,
   "source": [
    "name = input(f'What\\'s your name?')\r\n",
    "print(len(name))"
   ],
   "outputs": [
    {
     "output_type": "stream",
     "name": "stdout",
     "text": [
      "5\n"
     ]
    }
   ],
   "metadata": {}
  },
  {
   "cell_type": "markdown",
   "source": [
    "# Exercise - 1.4"
   ],
   "metadata": {}
  },
  {
   "cell_type": "code",
   "execution_count": 10,
   "source": [
    "a = input('a:')\r\n",
    "b = input('b:')\r\n",
    "\r\n",
    "temp = a\r\n",
    "a    = b\r\n",
    "b    = temp \r\n",
    "\r\n",
    "print(f'a:{a}')\r\n",
    "print(f'b:{b}')"
   ],
   "outputs": [
    {
     "output_type": "stream",
     "name": "stdout",
     "text": [
      "a:5\n",
      "b:3\n"
     ]
    }
   ],
   "metadata": {}
  },
  {
   "cell_type": "markdown",
   "source": [
    "# Day-1 Project"
   ],
   "metadata": {}
  },
  {
   "cell_type": "code",
   "execution_count": 11,
   "source": [
    "print('Welcome to the Band Name Generator.')\r\n",
    "city = input(\"What's the name of city you grew up in?\")\r\n",
    "print(f\"What's the name of city you grew up in?\\n{city}\")\r\n",
    "pet_name = input(\"What's your pet's name?\")\r\n",
    "print(f\"What's your pet's name?\\n{pet_name}\")\r\n",
    "print(f'Your Band Name could be {city} {pet_name}')"
   ],
   "outputs": [
    {
     "output_type": "stream",
     "name": "stdout",
     "text": [
      "Welcome to the Band Name Generator.\n",
      "What's the name of city you grew up in?\n",
      "Dhaka\n",
      "What's your pet's name?\n",
      "Rabbit\n",
      "Your Band Name could be Dhaka Rabbit\n"
     ]
    }
   ],
   "metadata": {}
  }
 ],
 "metadata": {
  "orig_nbformat": 4,
  "language_info": {
   "name": "python",
   "version": "3.7.9",
   "mimetype": "text/x-python",
   "codemirror_mode": {
    "name": "ipython",
    "version": 3
   },
   "pygments_lexer": "ipython3",
   "nbconvert_exporter": "python",
   "file_extension": ".py"
  },
  "kernelspec": {
   "name": "python3",
   "display_name": "Python 3.7.9 64-bit ('base': conda)"
  },
  "interpreter": {
   "hash": "b3ba2566441a7c06988d0923437866b63cedc61552a5af99d1f4fb67d367b25f"
  }
 },
 "nbformat": 4,
 "nbformat_minor": 2
}