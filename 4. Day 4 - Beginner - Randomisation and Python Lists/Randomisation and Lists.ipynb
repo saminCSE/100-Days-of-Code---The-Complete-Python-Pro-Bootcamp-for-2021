{
 "cells": [
  {
   "cell_type": "code",
   "execution_count": 9,
   "id": "elect-replica",
   "metadata": {},
   "outputs": [
    {
     "name": "stdout",
     "output_type": "stream",
     "text": [
      "1\n",
      "1.9601279101873048\n"
     ]
    }
   ],
   "source": [
    "import random as r\n",
    "\n",
    "random_integer = r.randint(1,10)\n",
    "print(random_integer)\n",
    "\n",
    "random_float = r.random() * 5\n",
    "print(random_float)"
   ]
  },
  {
   "cell_type": "markdown",
   "id": "terminal-supplier",
   "metadata": {},
   "source": [
    "# Exercise - 4.1"
   ]
  },
  {
   "cell_type": "code",
   "execution_count": 14,
   "id": "neural-agreement",
   "metadata": {},
   "outputs": [
    {
     "name": "stdout",
     "output_type": "stream",
     "text": [
      "Tails\n"
     ]
    }
   ],
   "source": [
    "HT = r.randint(0,1)\n",
    "\n",
    "if HT == 1:\n",
    "    print(\"Heads\")\n",
    "else:\n",
    "    print(\"Tails\")"
   ]
  },
  {
   "cell_type": "markdown",
   "id": "known-springer",
   "metadata": {},
   "source": [
    "# Exercise - 4.2"
   ]
  },
  {
   "cell_type": "code",
   "execution_count": 19,
   "id": "verified-fashion",
   "metadata": {},
   "outputs": [
    {
     "name": "stdout",
     "output_type": "stream",
     "text": [
      "Give me everybody's names, separated by a comma. :Angela, Ben, Jenny, Michael, Chloe\n",
      "Ben is going to buy the meal today!\n"
     ]
    }
   ],
   "source": [
    "names_string = input(\"Give me everybody's names, separated by a comma. :\")\n",
    "names = names_string.split(\", \")\n",
    "\n",
    "#random_name = r.randrange(len(names))\n",
    "random_name = r.randint(0,len(names)-1)\n",
    "print(f\"{names[random_name]} is going to buy the meal today!\")"
   ]
  },
  {
   "cell_type": "markdown",
   "id": "ecological-intellectual",
   "metadata": {},
   "source": [
    "# Exercise - 4.3"
   ]
  },
  {
   "cell_type": "code",
   "execution_count": 20,
   "id": "entire-transmission",
   "metadata": {},
   "outputs": [
    {
     "name": "stdout",
     "output_type": "stream",
     "text": [
      "['⬜️', '⬜️', '⬜️']\n",
      "['⬜️', '⬜️', '⬜️']\n",
      "['⬜️', '⬜️', '⬜️']\n",
      "Where do you want to put the treasure? 31\n",
      "['⬜️', '⬜️', 'X']\n",
      "['⬜️', '⬜️', '⬜️']\n",
      "['⬜️', '⬜️', '⬜️']\n"
     ]
    }
   ],
   "source": [
    "row1 = [\"⬜️\",\"⬜️\",\"⬜️\"]\n",
    "row2 = [\"⬜️\",\"⬜️\",\"⬜️\"]\n",
    "row3 = [\"⬜️\",\"⬜️\",\"⬜️\"]\n",
    "map = [row1, row2, row3]\n",
    "print(f\"{row1}\\n{row2}\\n{row3}\")\n",
    "\n",
    "position = input(\"Where do you want to put the treasure? \")\n",
    "\n",
    "horizontal = int(position[0])\n",
    "vertical = int(position[1])\n",
    "\n",
    "map[vertical - 1][horizontal - 1] = \"X\"\n",
    "\n",
    "print(f\"{row1}\\n{row2}\\n{row3}\")"
   ]
  },
  {
   "cell_type": "markdown",
   "id": "isolated-extraction",
   "metadata": {},
   "source": [
    "# Day-4 Project"
   ]
  },
  {
   "cell_type": "code",
   "execution_count": 21,
   "id": "supposed-rebate",
   "metadata": {},
   "outputs": [
    {
     "name": "stdout",
     "output_type": "stream",
     "text": [
      "What do you choose? Type 0 for Rock, 1 for Paper or 2 for Scissors.\n",
      "0\n",
      "\n",
      "    _______\n",
      "---'   ____)\n",
      "      (_____)\n",
      "      (_____)\n",
      "      (____)\n",
      "---.__(___)\n",
      "\n",
      "Computer chose:\n",
      "\n",
      "    _______\n",
      "---'   ____)____\n",
      "          ______)\n",
      "       __________)\n",
      "      (____)\n",
      "---.__(___)\n",
      "\n",
      "You win!\n"
     ]
    }
   ],
   "source": [
    "import random\n",
    "\n",
    "rock = '''\n",
    "    _______\n",
    "---'   ____)\n",
    "      (_____)\n",
    "      (_____)\n",
    "      (____)\n",
    "---.__(___)\n",
    "'''\n",
    "\n",
    "paper = '''\n",
    "    _______\n",
    "---'   ____)____\n",
    "          ______)\n",
    "          _______)\n",
    "         _______)\n",
    "---.__________)\n",
    "'''\n",
    "\n",
    "scissors = '''\n",
    "    _______\n",
    "---'   ____)____\n",
    "          ______)\n",
    "       __________)\n",
    "      (____)\n",
    "---.__(___)\n",
    "'''\n",
    "game_images = [rock, paper, scissors]\n",
    "\n",
    "user_choice = int(input(\"What do you choose? Type 0 for Rock, 1 for Paper or 2 for Scissors.\\n\"))\n",
    "if user_choice >= 3 or user_choice < 0: \n",
    "    print(\"You typed an invalid number, you lose!\") \n",
    "else:\n",
    "    print(game_images[user_choice])\n",
    "\n",
    "    computer_choice = random.randint(0, 2)\n",
    "    print(\"Computer chose:\")\n",
    "    print(game_images[computer_choice])\n",
    "\n",
    "\n",
    "    if user_choice == 0 and computer_choice == 2:\n",
    "        print(\"You win!\")\n",
    "    elif computer_choice == 0 and user_choice == 2:\n",
    "        print(\"You lose\")\n",
    "    elif computer_choice > user_choice:\n",
    "        print(\"You lose\")\n",
    "    elif user_choice > computer_choice:\n",
    "        print(\"You win!\")\n",
    "    elif computer_choice == user_choice:\n",
    "        print(\"It's a draw\")"
   ]
  }
 ],
 "metadata": {
  "kernelspec": {
   "display_name": "Python 3",
   "language": "python",
   "name": "python3"
  },
  "language_info": {
   "codemirror_mode": {
    "name": "ipython",
    "version": 3
   },
   "file_extension": ".py",
   "mimetype": "text/x-python",
   "name": "python",
   "nbconvert_exporter": "python",
   "pygments_lexer": "ipython3",
   "version": "3.7.9"
  }
 },
 "nbformat": 4,
 "nbformat_minor": 5
}
